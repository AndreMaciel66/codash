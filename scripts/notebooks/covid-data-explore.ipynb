{
 "cells": [
  {
   "cell_type": "markdown",
   "metadata": {},
   "source": [
    "## Hipótese\n",
    "\n",
    "#### Qual estado do Brazil tem mais mortes registradas de covid até hoje?\n",
    "\n",
    "Consumir API"
   ]
  },
  {
   "cell_type": "code",
   "execution_count": 1,
   "metadata": {},
   "outputs": [],
   "source": [
    "import requests\n",
    "import pandas as pd\n",
    "import altair as alt"
   ]
  },
  {
   "cell_type": "code",
   "execution_count": 2,
   "metadata": {},
   "outputs": [],
   "source": [
    "r = requests.get('https://covid19-brazil-api.now.sh/api/report/v1')\n",
    "result = r.json()[\"data\"]\n",
    "df = pd.DataFrame(result)"
   ]
  },
  {
   "cell_type": "code",
   "execution_count": 4,
   "metadata": {
    "collapsed": true,
    "jupyter": {
     "outputs_hidden": true
    }
   },
   "outputs": [
    {
     "output_type": "execute_result",
     "data": {
      "text/plain": "   uid  uf           state   cases  deaths  suspects  refuses  \\\n0   35  SP       São Paulo  853085   31313      5334      596   \n1   29  BA           Bahia  270177    5627       573       36   \n2   33  RJ  Rio de Janeiro  232747   16526      1254      148   \n\n                   datetime  \n0  2020-09-05T22:34:06.435Z  \n1  2020-09-05T22:34:06.435Z  \n2  2020-09-05T22:34:06.435Z  ",
      "text/html": "<div>\n<style scoped>\n    .dataframe tbody tr th:only-of-type {\n        vertical-align: middle;\n    }\n\n    .dataframe tbody tr th {\n        vertical-align: top;\n    }\n\n    .dataframe thead th {\n        text-align: right;\n    }\n</style>\n<table border=\"1\" class=\"dataframe\">\n  <thead>\n    <tr style=\"text-align: right;\">\n      <th></th>\n      <th>uid</th>\n      <th>uf</th>\n      <th>state</th>\n      <th>cases</th>\n      <th>deaths</th>\n      <th>suspects</th>\n      <th>refuses</th>\n      <th>datetime</th>\n    </tr>\n  </thead>\n  <tbody>\n    <tr>\n      <th>0</th>\n      <td>35</td>\n      <td>SP</td>\n      <td>São Paulo</td>\n      <td>853085</td>\n      <td>31313</td>\n      <td>5334</td>\n      <td>596</td>\n      <td>2020-09-05T22:34:06.435Z</td>\n    </tr>\n    <tr>\n      <th>1</th>\n      <td>29</td>\n      <td>BA</td>\n      <td>Bahia</td>\n      <td>270177</td>\n      <td>5627</td>\n      <td>573</td>\n      <td>36</td>\n      <td>2020-09-05T22:34:06.435Z</td>\n    </tr>\n    <tr>\n      <th>2</th>\n      <td>33</td>\n      <td>RJ</td>\n      <td>Rio de Janeiro</td>\n      <td>232747</td>\n      <td>16526</td>\n      <td>1254</td>\n      <td>148</td>\n      <td>2020-09-05T22:34:06.435Z</td>\n    </tr>\n  </tbody>\n</table>\n</div>"
     },
     "metadata": {},
     "execution_count": 4
    }
   ],
   "source": [
    "df.head(3)"
   ]
  },
  {
   "cell_type": "code",
   "execution_count": 5,
   "metadata": {},
   "outputs": [
    {
     "output_type": "execute_result",
     "data": {
      "text/plain": "   uid  uf           state   cases  deaths  suspects  refuses  \\\n0   35  SP       São Paulo  853085   31313      5334      596   \n2   33  RJ  Rio de Janeiro  232747   16526      1254      148   \n\n                   datetime  \n0  2020-09-05T22:34:06.435Z  \n2  2020-09-05T22:34:06.435Z  ",
      "text/html": "<div>\n<style scoped>\n    .dataframe tbody tr th:only-of-type {\n        vertical-align: middle;\n    }\n\n    .dataframe tbody tr th {\n        vertical-align: top;\n    }\n\n    .dataframe thead th {\n        text-align: right;\n    }\n</style>\n<table border=\"1\" class=\"dataframe\">\n  <thead>\n    <tr style=\"text-align: right;\">\n      <th></th>\n      <th>uid</th>\n      <th>uf</th>\n      <th>state</th>\n      <th>cases</th>\n      <th>deaths</th>\n      <th>suspects</th>\n      <th>refuses</th>\n      <th>datetime</th>\n    </tr>\n  </thead>\n  <tbody>\n    <tr>\n      <th>0</th>\n      <td>35</td>\n      <td>SP</td>\n      <td>São Paulo</td>\n      <td>853085</td>\n      <td>31313</td>\n      <td>5334</td>\n      <td>596</td>\n      <td>2020-09-05T22:34:06.435Z</td>\n    </tr>\n    <tr>\n      <th>2</th>\n      <td>33</td>\n      <td>RJ</td>\n      <td>Rio de Janeiro</td>\n      <td>232747</td>\n      <td>16526</td>\n      <td>1254</td>\n      <td>148</td>\n      <td>2020-09-05T22:34:06.435Z</td>\n    </tr>\n  </tbody>\n</table>\n</div>"
     },
     "metadata": {},
     "execution_count": 5
    }
   ],
   "source": [
    "top_10_by_death = df.sort_values(by=['deaths'], ascending=False).head(10)\n",
    "top_10_by_death.head(2)"
   ]
  },
  {
   "cell_type": "code",
   "execution_count": 6,
   "metadata": {},
   "outputs": [
    {
     "output_type": "execute_result",
     "data": {
      "text/html": "\n<div id=\"altair-viz-3761caf76c054108aa137ea4b8e9393a\"></div>\n<script type=\"text/javascript\">\n  (function(spec, embedOpt){\n    let outputDiv = document.currentScript.previousElementSibling;\n    if (outputDiv.id !== \"altair-viz-3761caf76c054108aa137ea4b8e9393a\") {\n      outputDiv = document.getElementById(\"altair-viz-3761caf76c054108aa137ea4b8e9393a\");\n    }\n    const paths = {\n      \"vega\": \"https://cdn.jsdelivr.net/npm//vega@5?noext\",\n      \"vega-lib\": \"https://cdn.jsdelivr.net/npm//vega-lib?noext\",\n      \"vega-lite\": \"https://cdn.jsdelivr.net/npm//vega-lite@4.8.1?noext\",\n      \"vega-embed\": \"https://cdn.jsdelivr.net/npm//vega-embed@6?noext\",\n    };\n\n    function loadScript(lib) {\n      return new Promise(function(resolve, reject) {\n        var s = document.createElement('script');\n        s.src = paths[lib];\n        s.async = true;\n        s.onload = () => resolve(paths[lib]);\n        s.onerror = () => reject(`Error loading script: ${paths[lib]}`);\n        document.getElementsByTagName(\"head\")[0].appendChild(s);\n      });\n    }\n\n    function showError(err) {\n      outputDiv.innerHTML = `<div class=\"error\" style=\"color:red;\">${err}</div>`;\n      throw err;\n    }\n\n    function displayChart(vegaEmbed) {\n      vegaEmbed(outputDiv, spec, embedOpt)\n        .catch(err => showError(`Javascript Error: ${err.message}<br>This usually means there's a typo in your chart specification. See the javascript console for the full traceback.`));\n    }\n\n    if(typeof define === \"function\" && define.amd) {\n      requirejs.config({paths});\n      require([\"vega-embed\"], displayChart, err => showError(`Error loading script: ${err.message}`));\n    } else if (typeof vegaEmbed === \"function\") {\n      displayChart(vegaEmbed);\n    } else {\n      loadScript(\"vega\")\n        .then(() => loadScript(\"vega-lite\"))\n        .then(() => loadScript(\"vega-embed\"))\n        .catch(showError)\n        .then(() => displayChart(vegaEmbed));\n    }\n  })({\"config\": {\"view\": {\"continuousWidth\": 400, \"continuousHeight\": 300}}, \"data\": {\"name\": \"data-58fa6e980f9f76d5ea3b7f63ec70d071\"}, \"mark\": \"bar\", \"encoding\": {\"x\": {\"type\": \"quantitative\", \"field\": \"deaths\"}, \"y\": {\"type\": \"nominal\", \"field\": \"state\", \"sort\": \"-x\"}}, \"$schema\": \"https://vega.github.io/schema/vega-lite/v4.8.1.json\", \"datasets\": {\"data-58fa6e980f9f76d5ea3b7f63ec70d071\": [{\"uid\": 35, \"uf\": \"SP\", \"state\": \"S\\u00e3o Paulo\", \"cases\": 853085, \"deaths\": 31313, \"suspects\": 5334, \"refuses\": 596, \"datetime\": \"2020-09-05T22:34:06.435Z\"}, {\"uid\": 33, \"uf\": \"RJ\", \"state\": \"Rio de Janeiro\", \"cases\": 232747, \"deaths\": 16526, \"suspects\": 1254, \"refuses\": 148, \"datetime\": \"2020-09-05T22:34:06.435Z\"}, {\"uid\": 23, \"uf\": \"CE\", \"state\": \"Cear\\u00e1\", \"cases\": 222179, \"deaths\": 8565, \"suspects\": 493, \"refuses\": 89, \"datetime\": \"2020-09-05T22:34:06.435Z\"}, {\"uid\": 26, \"uf\": \"PE\", \"state\": \"Pernambuco\", \"cases\": 131961, \"deaths\": 7670, \"suspects\": 89, \"refuses\": 23, \"datetime\": \"2020-09-05T22:34:06.435Z\"}, {\"uid\": 15, \"uf\": \"PA\", \"state\": \"Par\\u00e1\", \"cases\": 206864, \"deaths\": 6240, \"suspects\": 43, \"refuses\": 23, \"datetime\": \"2020-09-05T22:34:06.435Z\"}, {\"uid\": 31, \"uf\": \"MG\", \"state\": \"Minas Gerais\", \"cases\": 231878, \"deaths\": 5708, \"suspects\": 925, \"refuses\": 104, \"datetime\": \"2020-09-05T22:34:06.435Z\"}, {\"uid\": 29, \"uf\": \"BA\", \"state\": \"Bahia\", \"cases\": 270177, \"deaths\": 5627, \"suspects\": 573, \"refuses\": 36, \"datetime\": \"2020-09-05T22:34:06.435Z\"}, {\"uid\": 13, \"uf\": \"AM\", \"state\": \"Amazonas\", \"cases\": 123726, \"deaths\": 3841, \"suspects\": 18, \"refuses\": 26, \"datetime\": \"2020-09-05T22:34:06.435Z\"}, {\"uid\": 43, \"uf\": \"RS\", \"state\": \"Rio Grande do Sul\", \"cases\": 143485, \"deaths\": 3714, \"suspects\": 416, \"refuses\": 330, \"datetime\": \"2020-09-05T22:34:06.435Z\"}, {\"uid\": 41, \"uf\": \"PR\", \"state\": \"Paran\\u00e1\", \"cases\": 141648, \"deaths\": 3537, \"suspects\": 400, \"refuses\": 119, \"datetime\": \"2020-09-05T22:34:06.435Z\"}]}}, {\"mode\": \"vega-lite\"});\n</script>",
      "text/plain": "alt.Chart(...)"
     },
     "metadata": {},
     "execution_count": 6
    }
   ],
   "source": [
    "alt.Chart(top_10_by_death).mark_bar().encode(\n",
    "    x='deaths',\n",
    "    y=alt.Y('state:N', sort='-x'),\n",
    ")"
   ]
  },
  {
   "cell_type": "code",
   "execution_count": 7,
   "metadata": {},
   "outputs": [
    {
     "output_type": "execute_result",
     "data": {
      "text/html": "\n<div id=\"altair-viz-3846bdd16b414b7cbff961586c461ce7\"></div>\n<script type=\"text/javascript\">\n  (function(spec, embedOpt){\n    let outputDiv = document.currentScript.previousElementSibling;\n    if (outputDiv.id !== \"altair-viz-3846bdd16b414b7cbff961586c461ce7\") {\n      outputDiv = document.getElementById(\"altair-viz-3846bdd16b414b7cbff961586c461ce7\");\n    }\n    const paths = {\n      \"vega\": \"https://cdn.jsdelivr.net/npm//vega@5?noext\",\n      \"vega-lib\": \"https://cdn.jsdelivr.net/npm//vega-lib?noext\",\n      \"vega-lite\": \"https://cdn.jsdelivr.net/npm//vega-lite@4.8.1?noext\",\n      \"vega-embed\": \"https://cdn.jsdelivr.net/npm//vega-embed@6?noext\",\n    };\n\n    function loadScript(lib) {\n      return new Promise(function(resolve, reject) {\n        var s = document.createElement('script');\n        s.src = paths[lib];\n        s.async = true;\n        s.onload = () => resolve(paths[lib]);\n        s.onerror = () => reject(`Error loading script: ${paths[lib]}`);\n        document.getElementsByTagName(\"head\")[0].appendChild(s);\n      });\n    }\n\n    function showError(err) {\n      outputDiv.innerHTML = `<div class=\"error\" style=\"color:red;\">${err}</div>`;\n      throw err;\n    }\n\n    function displayChart(vegaEmbed) {\n      vegaEmbed(outputDiv, spec, embedOpt)\n        .catch(err => showError(`Javascript Error: ${err.message}<br>This usually means there's a typo in your chart specification. See the javascript console for the full traceback.`));\n    }\n\n    if(typeof define === \"function\" && define.amd) {\n      requirejs.config({paths});\n      require([\"vega-embed\"], displayChart, err => showError(`Error loading script: ${err.message}`));\n    } else if (typeof vegaEmbed === \"function\") {\n      displayChart(vegaEmbed);\n    } else {\n      loadScript(\"vega\")\n        .then(() => loadScript(\"vega-lite\"))\n        .then(() => loadScript(\"vega-embed\"))\n        .catch(showError)\n        .then(() => displayChart(vegaEmbed));\n    }\n  })({\"config\": {\"view\": {\"continuousWidth\": 400, \"continuousHeight\": 300}}, \"data\": {\"name\": \"data-58fa6e980f9f76d5ea3b7f63ec70d071\"}, \"mark\": \"bar\", \"encoding\": {\"color\": {\"type\": \"quantitative\", \"field\": \"cases\"}, \"tooltip\": [{\"type\": \"quantitative\", \"field\": \"deaths\", \"format\": \",\"}, {\"type\": \"quantitative\", \"field\": \"cases\", \"format\": \",\"}, {\"type\": \"quantitative\", \"field\": \"suspects\", \"format\": \",\"}], \"x\": {\"type\": \"quantitative\", \"field\": \"deaths\"}, \"y\": {\"type\": \"nominal\", \"field\": \"state\", \"sort\": \"-x\"}}, \"$schema\": \"https://vega.github.io/schema/vega-lite/v4.8.1.json\", \"datasets\": {\"data-58fa6e980f9f76d5ea3b7f63ec70d071\": [{\"uid\": 35, \"uf\": \"SP\", \"state\": \"S\\u00e3o Paulo\", \"cases\": 853085, \"deaths\": 31313, \"suspects\": 5334, \"refuses\": 596, \"datetime\": \"2020-09-05T22:34:06.435Z\"}, {\"uid\": 33, \"uf\": \"RJ\", \"state\": \"Rio de Janeiro\", \"cases\": 232747, \"deaths\": 16526, \"suspects\": 1254, \"refuses\": 148, \"datetime\": \"2020-09-05T22:34:06.435Z\"}, {\"uid\": 23, \"uf\": \"CE\", \"state\": \"Cear\\u00e1\", \"cases\": 222179, \"deaths\": 8565, \"suspects\": 493, \"refuses\": 89, \"datetime\": \"2020-09-05T22:34:06.435Z\"}, {\"uid\": 26, \"uf\": \"PE\", \"state\": \"Pernambuco\", \"cases\": 131961, \"deaths\": 7670, \"suspects\": 89, \"refuses\": 23, \"datetime\": \"2020-09-05T22:34:06.435Z\"}, {\"uid\": 15, \"uf\": \"PA\", \"state\": \"Par\\u00e1\", \"cases\": 206864, \"deaths\": 6240, \"suspects\": 43, \"refuses\": 23, \"datetime\": \"2020-09-05T22:34:06.435Z\"}, {\"uid\": 31, \"uf\": \"MG\", \"state\": \"Minas Gerais\", \"cases\": 231878, \"deaths\": 5708, \"suspects\": 925, \"refuses\": 104, \"datetime\": \"2020-09-05T22:34:06.435Z\"}, {\"uid\": 29, \"uf\": \"BA\", \"state\": \"Bahia\", \"cases\": 270177, \"deaths\": 5627, \"suspects\": 573, \"refuses\": 36, \"datetime\": \"2020-09-05T22:34:06.435Z\"}, {\"uid\": 13, \"uf\": \"AM\", \"state\": \"Amazonas\", \"cases\": 123726, \"deaths\": 3841, \"suspects\": 18, \"refuses\": 26, \"datetime\": \"2020-09-05T22:34:06.435Z\"}, {\"uid\": 43, \"uf\": \"RS\", \"state\": \"Rio Grande do Sul\", \"cases\": 143485, \"deaths\": 3714, \"suspects\": 416, \"refuses\": 330, \"datetime\": \"2020-09-05T22:34:06.435Z\"}, {\"uid\": 41, \"uf\": \"PR\", \"state\": \"Paran\\u00e1\", \"cases\": 141648, \"deaths\": 3537, \"suspects\": 400, \"refuses\": 119, \"datetime\": \"2020-09-05T22:34:06.435Z\"}]}}, {\"mode\": \"vega-lite\"});\n</script>",
      "text/plain": "alt.Chart(...)"
     },
     "metadata": {},
     "execution_count": 7
    }
   ],
   "source": [
    "# adding tooltips and color\n",
    "alt.Chart(top_10_by_death).mark_bar().encode(\n",
    "    x='deaths',\n",
    "    y=alt.Y('state:N', sort='-x'),\n",
    "    tooltip=[alt.Tooltip('deaths', format=','),\n",
    "             alt.Tooltip('cases', format=','),\n",
    "             alt.Tooltip('suspects', format=',')],\n",
    "    color='cases'\n",
    ")"
   ]
  },
  {
   "cell_type": "code",
   "execution_count": 19,
   "metadata": {},
   "outputs": [
    {
     "output_type": "error",
     "ename": "ValueError",
     "evalue": "cases*10 encoding field is specified without a type; the type cannot be inferred because it does not match any column in the data.",
     "traceback": [
      "\u001b[0;31m---------------------------------------------------------------------------\u001b[0m",
      "\u001b[0;31mValueError\u001b[0m                                Traceback (most recent call last)",
      "\u001b[0;32m~/dev/codash/venv/lib/python3.7/site-packages/altair/vegalite/v4/api.py\u001b[0m in \u001b[0;36mto_dict\u001b[0;34m(self, *args, **kwargs)\u001b[0m\n\u001b[1;32m    371\u001b[0m \u001b[0;34m\u001b[0m\u001b[0m\n\u001b[1;32m    372\u001b[0m         \u001b[0;32mtry\u001b[0m\u001b[0;34m:\u001b[0m\u001b[0;34m\u001b[0m\u001b[0;34m\u001b[0m\u001b[0m\n\u001b[0;32m--> 373\u001b[0;31m             \u001b[0mdct\u001b[0m \u001b[0;34m=\u001b[0m \u001b[0msuper\u001b[0m\u001b[0;34m(\u001b[0m\u001b[0mTopLevelMixin\u001b[0m\u001b[0;34m,\u001b[0m \u001b[0mcopy\u001b[0m\u001b[0;34m)\u001b[0m\u001b[0;34m.\u001b[0m\u001b[0mto_dict\u001b[0m\u001b[0;34m(\u001b[0m\u001b[0;34m*\u001b[0m\u001b[0margs\u001b[0m\u001b[0;34m,\u001b[0m \u001b[0;34m**\u001b[0m\u001b[0mkwargs\u001b[0m\u001b[0;34m)\u001b[0m\u001b[0;34m\u001b[0m\u001b[0;34m\u001b[0m\u001b[0m\n\u001b[0m\u001b[1;32m    374\u001b[0m         \u001b[0;32mexcept\u001b[0m \u001b[0mjsonschema\u001b[0m\u001b[0;34m.\u001b[0m\u001b[0mValidationError\u001b[0m\u001b[0;34m:\u001b[0m\u001b[0;34m\u001b[0m\u001b[0;34m\u001b[0m\u001b[0m\n\u001b[1;32m    375\u001b[0m             \u001b[0mdct\u001b[0m \u001b[0;34m=\u001b[0m \u001b[0;32mNone\u001b[0m\u001b[0;34m\u001b[0m\u001b[0;34m\u001b[0m\u001b[0m\n",
      "\u001b[0;32m~/dev/codash/venv/lib/python3.7/site-packages/altair/utils/schemapi.py\u001b[0m in \u001b[0;36mto_dict\u001b[0;34m(self, validate, ignore, context)\u001b[0m\n\u001b[1;32m    326\u001b[0m                 \u001b[0;34m{\u001b[0m\u001b[0mk\u001b[0m\u001b[0;34m:\u001b[0m \u001b[0mv\u001b[0m \u001b[0;32mfor\u001b[0m \u001b[0mk\u001b[0m\u001b[0;34m,\u001b[0m \u001b[0mv\u001b[0m \u001b[0;32min\u001b[0m \u001b[0mself\u001b[0m\u001b[0;34m.\u001b[0m\u001b[0m_kwds\u001b[0m\u001b[0;34m.\u001b[0m\u001b[0mitems\u001b[0m\u001b[0;34m(\u001b[0m\u001b[0;34m)\u001b[0m \u001b[0;32mif\u001b[0m \u001b[0mk\u001b[0m \u001b[0;32mnot\u001b[0m \u001b[0;32min\u001b[0m \u001b[0mignore\u001b[0m\u001b[0;34m}\u001b[0m\u001b[0;34m,\u001b[0m\u001b[0;34m\u001b[0m\u001b[0;34m\u001b[0m\u001b[0m\n\u001b[1;32m    327\u001b[0m                 \u001b[0mvalidate\u001b[0m\u001b[0;34m=\u001b[0m\u001b[0msub_validate\u001b[0m\u001b[0;34m,\u001b[0m\u001b[0;34m\u001b[0m\u001b[0;34m\u001b[0m\u001b[0m\n\u001b[0;32m--> 328\u001b[0;31m                 \u001b[0mcontext\u001b[0m\u001b[0;34m=\u001b[0m\u001b[0mcontext\u001b[0m\u001b[0;34m,\u001b[0m\u001b[0;34m\u001b[0m\u001b[0;34m\u001b[0m\u001b[0m\n\u001b[0m\u001b[1;32m    329\u001b[0m             )\n\u001b[1;32m    330\u001b[0m         \u001b[0;32melse\u001b[0m\u001b[0;34m:\u001b[0m\u001b[0;34m\u001b[0m\u001b[0;34m\u001b[0m\u001b[0m\n",
      "\u001b[0;32m~/dev/codash/venv/lib/python3.7/site-packages/altair/utils/schemapi.py\u001b[0m in \u001b[0;36m_todict\u001b[0;34m(obj, validate, context)\u001b[0m\n\u001b[1;32m     60\u001b[0m         return {\n\u001b[1;32m     61\u001b[0m             \u001b[0mk\u001b[0m\u001b[0;34m:\u001b[0m \u001b[0m_todict\u001b[0m\u001b[0;34m(\u001b[0m\u001b[0mv\u001b[0m\u001b[0;34m,\u001b[0m \u001b[0mvalidate\u001b[0m\u001b[0;34m,\u001b[0m \u001b[0mcontext\u001b[0m\u001b[0;34m)\u001b[0m\u001b[0;34m\u001b[0m\u001b[0;34m\u001b[0m\u001b[0m\n\u001b[0;32m---> 62\u001b[0;31m             \u001b[0;32mfor\u001b[0m \u001b[0mk\u001b[0m\u001b[0;34m,\u001b[0m \u001b[0mv\u001b[0m \u001b[0;32min\u001b[0m \u001b[0mobj\u001b[0m\u001b[0;34m.\u001b[0m\u001b[0mitems\u001b[0m\u001b[0;34m(\u001b[0m\u001b[0;34m)\u001b[0m\u001b[0;34m\u001b[0m\u001b[0;34m\u001b[0m\u001b[0m\n\u001b[0m\u001b[1;32m     63\u001b[0m             \u001b[0;32mif\u001b[0m \u001b[0mv\u001b[0m \u001b[0;32mis\u001b[0m \u001b[0;32mnot\u001b[0m \u001b[0mUndefined\u001b[0m\u001b[0;34m\u001b[0m\u001b[0;34m\u001b[0m\u001b[0m\n\u001b[1;32m     64\u001b[0m         }\n",
      "\u001b[0;32m~/dev/codash/venv/lib/python3.7/site-packages/altair/utils/schemapi.py\u001b[0m in \u001b[0;36m<dictcomp>\u001b[0;34m(.0)\u001b[0m\n\u001b[1;32m     61\u001b[0m             \u001b[0mk\u001b[0m\u001b[0;34m:\u001b[0m \u001b[0m_todict\u001b[0m\u001b[0;34m(\u001b[0m\u001b[0mv\u001b[0m\u001b[0;34m,\u001b[0m \u001b[0mvalidate\u001b[0m\u001b[0;34m,\u001b[0m \u001b[0mcontext\u001b[0m\u001b[0;34m)\u001b[0m\u001b[0;34m\u001b[0m\u001b[0;34m\u001b[0m\u001b[0m\n\u001b[1;32m     62\u001b[0m             \u001b[0;32mfor\u001b[0m \u001b[0mk\u001b[0m\u001b[0;34m,\u001b[0m \u001b[0mv\u001b[0m \u001b[0;32min\u001b[0m \u001b[0mobj\u001b[0m\u001b[0;34m.\u001b[0m\u001b[0mitems\u001b[0m\u001b[0;34m(\u001b[0m\u001b[0;34m)\u001b[0m\u001b[0;34m\u001b[0m\u001b[0;34m\u001b[0m\u001b[0m\n\u001b[0;32m---> 63\u001b[0;31m             \u001b[0;32mif\u001b[0m \u001b[0mv\u001b[0m \u001b[0;32mis\u001b[0m \u001b[0;32mnot\u001b[0m \u001b[0mUndefined\u001b[0m\u001b[0;34m\u001b[0m\u001b[0;34m\u001b[0m\u001b[0m\n\u001b[0m\u001b[1;32m     64\u001b[0m         }\n\u001b[1;32m     65\u001b[0m     \u001b[0;32melif\u001b[0m \u001b[0mhasattr\u001b[0m\u001b[0;34m(\u001b[0m\u001b[0mobj\u001b[0m\u001b[0;34m,\u001b[0m \u001b[0;34m\"to_dict\"\u001b[0m\u001b[0;34m)\u001b[0m\u001b[0;34m:\u001b[0m\u001b[0;34m\u001b[0m\u001b[0;34m\u001b[0m\u001b[0m\n",
      "\u001b[0;32m~/dev/codash/venv/lib/python3.7/site-packages/altair/utils/schemapi.py\u001b[0m in \u001b[0;36m_todict\u001b[0;34m(obj, validate, context)\u001b[0m\n\u001b[1;32m     54\u001b[0m     \u001b[0;34m\"\"\"Convert an object to a dict representation.\"\"\"\u001b[0m\u001b[0;34m\u001b[0m\u001b[0;34m\u001b[0m\u001b[0m\n\u001b[1;32m     55\u001b[0m     \u001b[0;32mif\u001b[0m \u001b[0misinstance\u001b[0m\u001b[0;34m(\u001b[0m\u001b[0mobj\u001b[0m\u001b[0;34m,\u001b[0m \u001b[0mSchemaBase\u001b[0m\u001b[0;34m)\u001b[0m\u001b[0;34m:\u001b[0m\u001b[0;34m\u001b[0m\u001b[0;34m\u001b[0m\u001b[0m\n\u001b[0;32m---> 56\u001b[0;31m         \u001b[0;32mreturn\u001b[0m \u001b[0mobj\u001b[0m\u001b[0;34m.\u001b[0m\u001b[0mto_dict\u001b[0m\u001b[0;34m(\u001b[0m\u001b[0mvalidate\u001b[0m\u001b[0;34m=\u001b[0m\u001b[0mvalidate\u001b[0m\u001b[0;34m,\u001b[0m \u001b[0mcontext\u001b[0m\u001b[0;34m=\u001b[0m\u001b[0mcontext\u001b[0m\u001b[0;34m)\u001b[0m\u001b[0;34m\u001b[0m\u001b[0;34m\u001b[0m\u001b[0m\n\u001b[0m\u001b[1;32m     57\u001b[0m     \u001b[0;32melif\u001b[0m \u001b[0misinstance\u001b[0m\u001b[0;34m(\u001b[0m\u001b[0mobj\u001b[0m\u001b[0;34m,\u001b[0m \u001b[0;34m(\u001b[0m\u001b[0mlist\u001b[0m\u001b[0;34m,\u001b[0m \u001b[0mtuple\u001b[0m\u001b[0;34m,\u001b[0m \u001b[0mnp\u001b[0m\u001b[0;34m.\u001b[0m\u001b[0mndarray\u001b[0m\u001b[0;34m)\u001b[0m\u001b[0;34m)\u001b[0m\u001b[0;34m:\u001b[0m\u001b[0;34m\u001b[0m\u001b[0;34m\u001b[0m\u001b[0m\n\u001b[1;32m     58\u001b[0m         \u001b[0;32mreturn\u001b[0m \u001b[0;34m[\u001b[0m\u001b[0m_todict\u001b[0m\u001b[0;34m(\u001b[0m\u001b[0mv\u001b[0m\u001b[0;34m,\u001b[0m \u001b[0mvalidate\u001b[0m\u001b[0;34m,\u001b[0m \u001b[0mcontext\u001b[0m\u001b[0;34m)\u001b[0m \u001b[0;32mfor\u001b[0m \u001b[0mv\u001b[0m \u001b[0;32min\u001b[0m \u001b[0mobj\u001b[0m\u001b[0;34m]\u001b[0m\u001b[0;34m\u001b[0m\u001b[0;34m\u001b[0m\u001b[0m\n",
      "\u001b[0;32m~/dev/codash/venv/lib/python3.7/site-packages/altair/utils/schemapi.py\u001b[0m in \u001b[0;36mto_dict\u001b[0;34m(self, validate, ignore, context)\u001b[0m\n\u001b[1;32m    326\u001b[0m                 \u001b[0;34m{\u001b[0m\u001b[0mk\u001b[0m\u001b[0;34m:\u001b[0m \u001b[0mv\u001b[0m \u001b[0;32mfor\u001b[0m \u001b[0mk\u001b[0m\u001b[0;34m,\u001b[0m \u001b[0mv\u001b[0m \u001b[0;32min\u001b[0m \u001b[0mself\u001b[0m\u001b[0;34m.\u001b[0m\u001b[0m_kwds\u001b[0m\u001b[0;34m.\u001b[0m\u001b[0mitems\u001b[0m\u001b[0;34m(\u001b[0m\u001b[0;34m)\u001b[0m \u001b[0;32mif\u001b[0m \u001b[0mk\u001b[0m \u001b[0;32mnot\u001b[0m \u001b[0;32min\u001b[0m \u001b[0mignore\u001b[0m\u001b[0;34m}\u001b[0m\u001b[0;34m,\u001b[0m\u001b[0;34m\u001b[0m\u001b[0;34m\u001b[0m\u001b[0m\n\u001b[1;32m    327\u001b[0m                 \u001b[0mvalidate\u001b[0m\u001b[0;34m=\u001b[0m\u001b[0msub_validate\u001b[0m\u001b[0;34m,\u001b[0m\u001b[0;34m\u001b[0m\u001b[0;34m\u001b[0m\u001b[0m\n\u001b[0;32m--> 328\u001b[0;31m                 \u001b[0mcontext\u001b[0m\u001b[0;34m=\u001b[0m\u001b[0mcontext\u001b[0m\u001b[0;34m,\u001b[0m\u001b[0;34m\u001b[0m\u001b[0;34m\u001b[0m\u001b[0m\n\u001b[0m\u001b[1;32m    329\u001b[0m             )\n\u001b[1;32m    330\u001b[0m         \u001b[0;32melse\u001b[0m\u001b[0;34m:\u001b[0m\u001b[0;34m\u001b[0m\u001b[0;34m\u001b[0m\u001b[0m\n",
      "\u001b[0;32m~/dev/codash/venv/lib/python3.7/site-packages/altair/utils/schemapi.py\u001b[0m in \u001b[0;36m_todict\u001b[0;34m(obj, validate, context)\u001b[0m\n\u001b[1;32m     60\u001b[0m         return {\n\u001b[1;32m     61\u001b[0m             \u001b[0mk\u001b[0m\u001b[0;34m:\u001b[0m \u001b[0m_todict\u001b[0m\u001b[0;34m(\u001b[0m\u001b[0mv\u001b[0m\u001b[0;34m,\u001b[0m \u001b[0mvalidate\u001b[0m\u001b[0;34m,\u001b[0m \u001b[0mcontext\u001b[0m\u001b[0;34m)\u001b[0m\u001b[0;34m\u001b[0m\u001b[0;34m\u001b[0m\u001b[0m\n\u001b[0;32m---> 62\u001b[0;31m             \u001b[0;32mfor\u001b[0m \u001b[0mk\u001b[0m\u001b[0;34m,\u001b[0m \u001b[0mv\u001b[0m \u001b[0;32min\u001b[0m \u001b[0mobj\u001b[0m\u001b[0;34m.\u001b[0m\u001b[0mitems\u001b[0m\u001b[0;34m(\u001b[0m\u001b[0;34m)\u001b[0m\u001b[0;34m\u001b[0m\u001b[0;34m\u001b[0m\u001b[0m\n\u001b[0m\u001b[1;32m     63\u001b[0m             \u001b[0;32mif\u001b[0m \u001b[0mv\u001b[0m \u001b[0;32mis\u001b[0m \u001b[0;32mnot\u001b[0m \u001b[0mUndefined\u001b[0m\u001b[0;34m\u001b[0m\u001b[0;34m\u001b[0m\u001b[0m\n\u001b[1;32m     64\u001b[0m         }\n",
      "\u001b[0;32m~/dev/codash/venv/lib/python3.7/site-packages/altair/utils/schemapi.py\u001b[0m in \u001b[0;36m<dictcomp>\u001b[0;34m(.0)\u001b[0m\n\u001b[1;32m     61\u001b[0m             \u001b[0mk\u001b[0m\u001b[0;34m:\u001b[0m \u001b[0m_todict\u001b[0m\u001b[0;34m(\u001b[0m\u001b[0mv\u001b[0m\u001b[0;34m,\u001b[0m \u001b[0mvalidate\u001b[0m\u001b[0;34m,\u001b[0m \u001b[0mcontext\u001b[0m\u001b[0;34m)\u001b[0m\u001b[0;34m\u001b[0m\u001b[0;34m\u001b[0m\u001b[0m\n\u001b[1;32m     62\u001b[0m             \u001b[0;32mfor\u001b[0m \u001b[0mk\u001b[0m\u001b[0;34m,\u001b[0m \u001b[0mv\u001b[0m \u001b[0;32min\u001b[0m \u001b[0mobj\u001b[0m\u001b[0;34m.\u001b[0m\u001b[0mitems\u001b[0m\u001b[0;34m(\u001b[0m\u001b[0;34m)\u001b[0m\u001b[0;34m\u001b[0m\u001b[0;34m\u001b[0m\u001b[0m\n\u001b[0;32m---> 63\u001b[0;31m             \u001b[0;32mif\u001b[0m \u001b[0mv\u001b[0m \u001b[0;32mis\u001b[0m \u001b[0;32mnot\u001b[0m \u001b[0mUndefined\u001b[0m\u001b[0;34m\u001b[0m\u001b[0;34m\u001b[0m\u001b[0m\n\u001b[0m\u001b[1;32m     64\u001b[0m         }\n\u001b[1;32m     65\u001b[0m     \u001b[0;32melif\u001b[0m \u001b[0mhasattr\u001b[0m\u001b[0;34m(\u001b[0m\u001b[0mobj\u001b[0m\u001b[0;34m,\u001b[0m \u001b[0;34m\"to_dict\"\u001b[0m\u001b[0;34m)\u001b[0m\u001b[0;34m:\u001b[0m\u001b[0;34m\u001b[0m\u001b[0;34m\u001b[0m\u001b[0m\n",
      "\u001b[0;32m~/dev/codash/venv/lib/python3.7/site-packages/altair/utils/schemapi.py\u001b[0m in \u001b[0;36m_todict\u001b[0;34m(obj, validate, context)\u001b[0m\n\u001b[1;32m     54\u001b[0m     \u001b[0;34m\"\"\"Convert an object to a dict representation.\"\"\"\u001b[0m\u001b[0;34m\u001b[0m\u001b[0;34m\u001b[0m\u001b[0m\n\u001b[1;32m     55\u001b[0m     \u001b[0;32mif\u001b[0m \u001b[0misinstance\u001b[0m\u001b[0;34m(\u001b[0m\u001b[0mobj\u001b[0m\u001b[0;34m,\u001b[0m \u001b[0mSchemaBase\u001b[0m\u001b[0;34m)\u001b[0m\u001b[0;34m:\u001b[0m\u001b[0;34m\u001b[0m\u001b[0;34m\u001b[0m\u001b[0m\n\u001b[0;32m---> 56\u001b[0;31m         \u001b[0;32mreturn\u001b[0m \u001b[0mobj\u001b[0m\u001b[0;34m.\u001b[0m\u001b[0mto_dict\u001b[0m\u001b[0;34m(\u001b[0m\u001b[0mvalidate\u001b[0m\u001b[0;34m=\u001b[0m\u001b[0mvalidate\u001b[0m\u001b[0;34m,\u001b[0m \u001b[0mcontext\u001b[0m\u001b[0;34m=\u001b[0m\u001b[0mcontext\u001b[0m\u001b[0;34m)\u001b[0m\u001b[0;34m\u001b[0m\u001b[0;34m\u001b[0m\u001b[0m\n\u001b[0m\u001b[1;32m     57\u001b[0m     \u001b[0;32melif\u001b[0m \u001b[0misinstance\u001b[0m\u001b[0;34m(\u001b[0m\u001b[0mobj\u001b[0m\u001b[0;34m,\u001b[0m \u001b[0;34m(\u001b[0m\u001b[0mlist\u001b[0m\u001b[0;34m,\u001b[0m \u001b[0mtuple\u001b[0m\u001b[0;34m,\u001b[0m \u001b[0mnp\u001b[0m\u001b[0;34m.\u001b[0m\u001b[0mndarray\u001b[0m\u001b[0;34m)\u001b[0m\u001b[0;34m)\u001b[0m\u001b[0;34m:\u001b[0m\u001b[0;34m\u001b[0m\u001b[0;34m\u001b[0m\u001b[0m\n\u001b[1;32m     58\u001b[0m         \u001b[0;32mreturn\u001b[0m \u001b[0;34m[\u001b[0m\u001b[0m_todict\u001b[0m\u001b[0;34m(\u001b[0m\u001b[0mv\u001b[0m\u001b[0;34m,\u001b[0m \u001b[0mvalidate\u001b[0m\u001b[0;34m,\u001b[0m \u001b[0mcontext\u001b[0m\u001b[0;34m)\u001b[0m \u001b[0;32mfor\u001b[0m \u001b[0mv\u001b[0m \u001b[0;32min\u001b[0m \u001b[0mobj\u001b[0m\u001b[0;34m]\u001b[0m\u001b[0;34m\u001b[0m\u001b[0;34m\u001b[0m\u001b[0m\n",
      "\u001b[0;32m~/dev/codash/venv/lib/python3.7/site-packages/altair/vegalite/v4/schema/channels.py\u001b[0m in \u001b[0;36mto_dict\u001b[0;34m(self, validate, ignore, context)\u001b[0m\n\u001b[1;32m     40\u001b[0m                     raise ValueError(\"{} encoding field is specified without a type; \"\n\u001b[1;32m     41\u001b[0m                                      \u001b[0;34m\"the type cannot be inferred because it does not \"\u001b[0m\u001b[0;34m\u001b[0m\u001b[0;34m\u001b[0m\u001b[0m\n\u001b[0;32m---> 42\u001b[0;31m                                      \"match any column in the data.\".format(shorthand))\n\u001b[0m\u001b[1;32m     43\u001b[0m                 \u001b[0;32melse\u001b[0m\u001b[0;34m:\u001b[0m\u001b[0;34m\u001b[0m\u001b[0;34m\u001b[0m\u001b[0m\n\u001b[1;32m     44\u001b[0m                     raise ValueError(\"{} encoding field is specified without a type; \"\n",
      "\u001b[0;31mValueError\u001b[0m: cases*10 encoding field is specified without a type; the type cannot be inferred because it does not match any column in the data."
     ]
    }
   ],
   "source": [
    "TopTenBarChart = alt.Chart(top_10_by_death, height=300, width=400).mark_point().encode(\n",
    "    x='deaths:Q',\n",
    "    y='cases:Q',\n",
    "    tooltip=[alt.Tooltip('cases', format=','),\n",
    "             alt.Tooltip('deaths', format=','),\n",
    "             alt.Tooltip('suspects', format=','),\n",
    "            'state'],\n",
    "    size='cases',\n",
    "    color='suspects'\n",
    ")\n",
    "TopTenBarChart"
   ]
  },
  {
   "cell_type": "code",
   "execution_count": 17,
   "metadata": {},
   "outputs": [],
   "source": [
    "TopTenBarChart.save('../../src/chart.json')"
   ]
  },
  {
   "cell_type": "code",
   "execution_count": 18,
   "metadata": {},
   "outputs": [
    {
     "output_type": "execute_result",
     "data": {
      "text/html": "\n<div id=\"altair-viz-149e07b33666467c905f05afa723b119\"></div>\n<script type=\"text/javascript\">\n  (function(spec, embedOpt){\n    let outputDiv = document.currentScript.previousElementSibling;\n    if (outputDiv.id !== \"altair-viz-149e07b33666467c905f05afa723b119\") {\n      outputDiv = document.getElementById(\"altair-viz-149e07b33666467c905f05afa723b119\");\n    }\n    const paths = {\n      \"vega\": \"https://cdn.jsdelivr.net/npm//vega@5?noext\",\n      \"vega-lib\": \"https://cdn.jsdelivr.net/npm//vega-lib?noext\",\n      \"vega-lite\": \"https://cdn.jsdelivr.net/npm//vega-lite@4.8.1?noext\",\n      \"vega-embed\": \"https://cdn.jsdelivr.net/npm//vega-embed@6?noext\",\n    };\n\n    function loadScript(lib) {\n      return new Promise(function(resolve, reject) {\n        var s = document.createElement('script');\n        s.src = paths[lib];\n        s.async = true;\n        s.onload = () => resolve(paths[lib]);\n        s.onerror = () => reject(`Error loading script: ${paths[lib]}`);\n        document.getElementsByTagName(\"head\")[0].appendChild(s);\n      });\n    }\n\n    function showError(err) {\n      outputDiv.innerHTML = `<div class=\"error\" style=\"color:red;\">${err}</div>`;\n      throw err;\n    }\n\n    function displayChart(vegaEmbed) {\n      vegaEmbed(outputDiv, spec, embedOpt)\n        .catch(err => showError(`Javascript Error: ${err.message}<br>This usually means there's a typo in your chart specification. See the javascript console for the full traceback.`));\n    }\n\n    if(typeof define === \"function\" && define.amd) {\n      requirejs.config({paths});\n      require([\"vega-embed\"], displayChart, err => showError(`Error loading script: ${err.message}`));\n    } else if (typeof vegaEmbed === \"function\") {\n      displayChart(vegaEmbed);\n    } else {\n      loadScript(\"vega\")\n        .then(() => loadScript(\"vega-lite\"))\n        .then(() => loadScript(\"vega-embed\"))\n        .catch(showError)\n        .then(() => displayChart(vegaEmbed));\n    }\n  })({\"config\": {\"view\": {\"continuousWidth\": 400, \"continuousHeight\": 300}}, \"data\": {\"name\": \"data-58fa6e980f9f76d5ea3b7f63ec70d071\"}, \"mark\": \"point\", \"encoding\": {\"color\": {\"type\": \"quantitative\", \"field\": \"suspects\"}, \"size\": {\"type\": \"quantitative\", \"field\": \"cases\"}, \"tooltip\": [{\"type\": \"quantitative\", \"field\": \"cases\", \"format\": \",\"}, {\"type\": \"quantitative\", \"field\": \"deaths\", \"format\": \",\"}, {\"type\": \"quantitative\", \"field\": \"suspects\", \"format\": \",\"}, {\"type\": \"nominal\", \"field\": \"state\"}], \"x\": {\"type\": \"quantitative\", \"field\": \"deaths\"}, \"y\": {\"type\": \"quantitative\", \"field\": \"cases\"}}, \"height\": 300, \"width\": 400, \"$schema\": \"https://vega.github.io/schema/vega-lite/v4.8.1.json\", \"datasets\": {\"data-58fa6e980f9f76d5ea3b7f63ec70d071\": [{\"uid\": 35, \"uf\": \"SP\", \"state\": \"S\\u00e3o Paulo\", \"cases\": 853085, \"deaths\": 31313, \"suspects\": 5334, \"refuses\": 596, \"datetime\": \"2020-09-05T22:34:06.435Z\"}, {\"uid\": 33, \"uf\": \"RJ\", \"state\": \"Rio de Janeiro\", \"cases\": 232747, \"deaths\": 16526, \"suspects\": 1254, \"refuses\": 148, \"datetime\": \"2020-09-05T22:34:06.435Z\"}, {\"uid\": 23, \"uf\": \"CE\", \"state\": \"Cear\\u00e1\", \"cases\": 222179, \"deaths\": 8565, \"suspects\": 493, \"refuses\": 89, \"datetime\": \"2020-09-05T22:34:06.435Z\"}, {\"uid\": 26, \"uf\": \"PE\", \"state\": \"Pernambuco\", \"cases\": 131961, \"deaths\": 7670, \"suspects\": 89, \"refuses\": 23, \"datetime\": \"2020-09-05T22:34:06.435Z\"}, {\"uid\": 15, \"uf\": \"PA\", \"state\": \"Par\\u00e1\", \"cases\": 206864, \"deaths\": 6240, \"suspects\": 43, \"refuses\": 23, \"datetime\": \"2020-09-05T22:34:06.435Z\"}, {\"uid\": 31, \"uf\": \"MG\", \"state\": \"Minas Gerais\", \"cases\": 231878, \"deaths\": 5708, \"suspects\": 925, \"refuses\": 104, \"datetime\": \"2020-09-05T22:34:06.435Z\"}, {\"uid\": 29, \"uf\": \"BA\", \"state\": \"Bahia\", \"cases\": 270177, \"deaths\": 5627, \"suspects\": 573, \"refuses\": 36, \"datetime\": \"2020-09-05T22:34:06.435Z\"}, {\"uid\": 13, \"uf\": \"AM\", \"state\": \"Amazonas\", \"cases\": 123726, \"deaths\": 3841, \"suspects\": 18, \"refuses\": 26, \"datetime\": \"2020-09-05T22:34:06.435Z\"}, {\"uid\": 43, \"uf\": \"RS\", \"state\": \"Rio Grande do Sul\", \"cases\": 143485, \"deaths\": 3714, \"suspects\": 416, \"refuses\": 330, \"datetime\": \"2020-09-05T22:34:06.435Z\"}, {\"uid\": 41, \"uf\": \"PR\", \"state\": \"Paran\\u00e1\", \"cases\": 141648, \"deaths\": 3537, \"suspects\": 400, \"refuses\": 119, \"datetime\": \"2020-09-05T22:34:06.435Z\"}]}}, {\"mode\": \"vega-lite\"});\n</script>",
      "text/plain": "alt.Chart(...)"
     },
     "metadata": {},
     "execution_count": 18
    }
   ],
   "source": [
    "TopTenBarChart"
   ]
  },
  {
   "cell_type": "code",
   "execution_count": null,
   "metadata": {},
   "outputs": [],
   "source": []
  }
 ],
 "metadata": {
  "kernelspec": {
   "display_name": "Python 3.7.3 64-bit ('venv': venv)",
   "language": "python",
   "name": "python37364bitvenvvenv3d820a0324f645688655b90ee5f93add"
  },
  "language_info": {
   "codemirror_mode": {
    "name": "ipython",
    "version": 3
   },
   "file_extension": ".py",
   "mimetype": "text/x-python",
   "name": "python",
   "nbconvert_exporter": "python",
   "pygments_lexer": "ipython3",
   "version": "3.7.3-final"
  }
 },
 "nbformat": 4,
 "nbformat_minor": 4
}